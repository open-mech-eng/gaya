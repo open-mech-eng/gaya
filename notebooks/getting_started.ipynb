{
 "cells": [
  {
   "cell_type": "markdown",
   "metadata": {},
   "source": [
    "# Getting Started"
   ]
  },
  {
   "cell_type": "code",
   "execution_count": 3,
   "metadata": {},
   "outputs": [
    {
     "name": "stdout",
     "output_type": "stream",
     "text": [
      "The autoreload extension is already loaded. To reload it, use:\n",
      "  %reload_ext autoreload\n"
     ]
    }
   ],
   "source": [
    "%load_ext autoreload\n",
    "%autoreload 2"
   ]
  },
  {
   "cell_type": "code",
   "execution_count": 5,
   "metadata": {},
   "outputs": [
    {
     "name": "stdout",
     "output_type": "stream",
     "text": [
      "\n",
      "Enabling jupyter_cadquery replay\n"
     ]
    }
   ],
   "source": [
    "import cadquery as cq\n",
    "from jupyter_cadquery.cadquery import (PartGroup, Part, Edges, Faces, Vertices, show, \n",
    "                                       replay, enable_replay, disable_replay, reset_replay)\n",
    "from jupyter_cadquery import set_sidecar, set_defaults, reset_defaults\n",
    "\n",
    "set_sidecar(\"CadQuery\")  # force usage of one cad view on the right\n",
    "set_defaults(axes=False, grid=True, axes0=True, ortho=True, transparent=True) # Set default values\n",
    "\n",
    "\n",
    "enable_replay()\n",
    "show_object = replay\n"
   ]
  },
  {
   "cell_type": "code",
   "execution_count": 9,
   "metadata": {},
   "outputs": [
    {
     "name": "stderr",
     "output_type": "stream",
     "text": [
      "RuntimeWarning: jupyter_cadquery replay is enabled, turn off with disable_replay()"
     ]
    },
    {
     "name": "stdout",
     "output_type": "stream",
     "text": [
      "Done, using side car 'CadQuery'\n"
     ]
    },
    {
     "data": {
      "text/plain": [
       "<jupyter_cadquery.cad_display.CadqueryDisplay at 0x7f0b0bd59e50>"
      ]
     },
     "execution_count": 9,
     "metadata": {},
     "output_type": "execute_result"
    }
   ],
   "source": [
    "#####\n",
    "# Inputs\n",
    "######\n",
    "lbumps = 4  # number of bumps long\n",
    "wbumps = 2  # number of bumps wide\n",
    "thin = True  # True for thin, False for thick\n",
    "\n",
    "#\n",
    "# Lego Brick Constants-- these make a lego brick a lego :)\n",
    "#\n",
    "pitch = 8.0\n",
    "clearance = 0.1\n",
    "bumpDiam = 4.8\n",
    "bumpHeight = 1.8\n",
    "if thin:\n",
    "    height = 3.2\n",
    "else:\n",
    "    height = 9.6\n",
    "\n",
    "t = (pitch - (2 * clearance) - bumpDiam) / 2.0\n",
    "postDiam = pitch - t  # works out to 6.5\n",
    "total_length = lbumps * pitch - 2.0 * clearance\n",
    "total_width = wbumps * pitch - 2.0 * clearance\n",
    "\n",
    "# make the base\n",
    "s = cq.Workplane(\"XY\").box(total_length, total_width, height)\n",
    "\n",
    "# shell inwards not outwards\n",
    "s = s.faces(\"<Z\").shell(-1.0 * t)\n",
    "\n",
    "# make the bumps on the top\n",
    "s = (\n",
    "    s.faces(\">Z\")\n",
    "    .workplane()\n",
    "    .rarray(pitch, pitch, lbumps, wbumps, True)\n",
    "    .circle(bumpDiam / 2.0)\n",
    "    .extrude(bumpHeight)\n",
    ")\n",
    "\n",
    "# add posts on the bottom. posts are different diameter depending on geometry\n",
    "# solid studs for 1 bump, tubes for multiple, none for 1x1\n",
    "tmp = s.faces(\"<Z\").workplane(invert=True)\n",
    "\n",
    "if lbumps > 1 and wbumps > 1:\n",
    "    tmp = (\n",
    "        tmp.rarray(pitch, pitch, lbumps - 1, wbumps - 1, center=True)\n",
    "        .circle(postDiam / 2.0)\n",
    "        .circle(bumpDiam / 2.0)\n",
    "        .extrude(height - t)\n",
    "    )\n",
    "elif lbumps > 1:\n",
    "    tmp = (\n",
    "        tmp.rarray(pitch, pitch, lbumps - 1, 1, center=True)\n",
    "        .circle(t)\n",
    "        .extrude(height - t)\n",
    "    )\n",
    "elif wbumps > 1:\n",
    "    tmp = (\n",
    "        tmp.rarray(pitch, pitch, 1, wbumps - 1, center=True)\n",
    "        .circle(t)\n",
    "        .extrude(height - t)\n",
    "    )\n",
    "else:\n",
    "    tmp = s\n",
    "\n",
    "# Render the solid\n",
    "show(tmp)"
   ]
  },
  {
   "cell_type": "code",
   "execution_count": 8,
   "metadata": {},
   "outputs": [
    {
     "name": "stdout",
     "output_type": "stream",
     "text": [
      "plate_4.val().Volume() =  7.762107665058859\n"
     ]
    },
    {
     "name": "stderr",
     "output_type": "stream",
     "text": [
      "RuntimeWarning: jupyter_cadquery replay is enabled, turn off with disable_replay()"
     ]
    },
    {
     "name": "stdout",
     "output_type": "stream",
     "text": [
      "Done, using side car 'CadQuery'\n"
     ]
    },
    {
     "data": {
      "text/plain": [
       "<jupyter_cadquery.cad_display.CadqueryDisplay at 0x7f0b10a014d0>"
      ]
     },
     "execution_count": 8,
     "metadata": {},
     "output_type": "execute_result"
    }
   ],
   "source": [
    "# EXAMPLE 4\n",
    "# Gyroïd, all edges are splines on different workplanes.\n",
    "thickness = 0.1\n",
    "edge_points = [\n",
    "    [[3.54, 3.54], [1.77, 0.0], [3.54, -3.54]],\n",
    "    [[-3.54, -3.54], [0.0, -1.77], [3.54, -3.54]],\n",
    "    [[-3.54, -3.54], [0.0, -1.77], [3.54, -3.54]],\n",
    "    [[-3.54, -3.54], [-1.77, 0.0], [-3.54, 3.54]],\n",
    "    [[3.54, 3.54], [0.0, 1.77], [-3.54, 3.54]],\n",
    "    [[3.54, 3.54], [0.0, 1.77], [-3.54, 3.54]],\n",
    "]\n",
    "plane_list = [\"XZ\", \"XY\", \"YZ\", \"XZ\", \"YZ\", \"XY\"]\n",
    "offset_list = [-3.54, 3.54, 3.54, 3.54, -3.54, -3.54]\n",
    "edge_wire = (\n",
    "    cq.Workplane(plane_list[0]).workplane(offset=-offset_list[0]).spline(edge_points[0])\n",
    ")\n",
    "for i in range(len(edge_points) - 1):\n",
    "    edge_wire = edge_wire.add(\n",
    "        cq.Workplane(plane_list[i + 1])\n",
    "        .workplane(offset=-offset_list[i + 1])\n",
    "        .spline(edge_points[i + 1])\n",
    "    )\n",
    "surface_points = [[0, 0, 0]]\n",
    "plate_4 = cq.Workplane(\"XY\").interpPlate(edge_wire, surface_points, thickness)\n",
    "print(\"plate_4.val().Volume() = \", plate_4.val().Volume())\n",
    "# plate_4 = plate_4.translate((0, 5 * 12, 0))\n",
    "show(plate_4)"
   ]
  },
  {
   "cell_type": "code",
   "execution_count": 10,
   "metadata": {},
   "outputs": [
    {
     "name": "stderr",
     "output_type": "stream",
     "text": [
      "RuntimeWarning: jupyter_cadquery replay is enabled, turn off with disable_replay()"
     ]
    },
    {
     "name": "stdout",
     "output_type": "stream",
     "text": [
      "Done, using side car 'CadQuery'\n"
     ]
    },
    {
     "data": {
      "text/plain": [
       "<jupyter_cadquery.cad_display.CadqueryDisplay at 0x7f0b10a0b210>"
      ]
     },
     "execution_count": 10,
     "metadata": {},
     "output_type": "execute_result"
    }
   ],
   "source": [
    "from math import sin, cos,pi,floor\n",
    "\n",
    "# define the generating function\n",
    "def hypocycloid(t,r1,r2):\n",
    "    return ((r1-r2)*cos(t)+r2*cos(r1/r2*t-t),(r1-r2)*sin(t)+r2*sin(-(r1/r2*t-t)))\n",
    "\n",
    "def epicycloid(t,r1,r2):\n",
    "    return ((r1+r2)*cos(t)-r2*cos(r1/r2*t+t),(r1+r2)*sin(t)-r2*sin(r1/r2*t+t))\n",
    "\n",
    "def gear(t,r1=4,r2=1):\n",
    "    if (-1)**(1+floor(t/2/pi*(r1/r2))) < 0:\n",
    "        return epicycloid(t,r1,r2)\n",
    "    else:\n",
    "        return hypocycloid(t,r1,r2)\n",
    "\n",
    "# create the gear profile and extrude it\n",
    "result = (cq.Workplane('XY').parametricCurve(lambda t: gear(t*2*pi,6,1))\n",
    "    .twistExtrude(15,90).faces('>Z').workplane().circle(2).cutThruAll())\n",
    "\n",
    "show(result)"
   ]
  },
  {
   "cell_type": "code",
   "execution_count": null,
   "metadata": {},
   "outputs": [],
   "source": [
    "box1 = cq.Workplane('XY').box(10, 20, 30).edges(\">X or <X\").chamfer(2)\n",
    "box2 = cq.Workplane('XY').box(8, 18, 28).edges(\">X or <X\").chamfer(2)\n",
    "box3 = cq.Workplane('XY').transformed(offset=(0, 15, 7)).box(30, 20, 6).edges(\">Z\").fillet(3)\n",
    "box4 = box3.mirror(\"XY\").translate((0, -5, 0))\n",
    "\n",
    "box1 = box1\\\n",
    "    .cut(box2)\\\n",
    "    .cut(box3)\\\n",
    "    .cut(box4)\n",
    "\n",
    "a1 = PartGroup(\n",
    "    [\n",
    "        Part(box1, \"red box\",   \"#d7191c\", show_edges=False),\n",
    "        Part(box3, \"green box\", \"#abdda4\", show_edges=False),\n",
    "        Part(box4, \"blue box\",  \"#2b83ba\", show_faces=False),\n",
    "    ],\n",
    "    \"example 1\"\n",
    ")\n",
    "\n",
    "show(a1, grid=False)  # overwrite grid default value"
   ]
  }
 ],
 "metadata": {
  "kernelspec": {
   "display_name": "Python 3",
   "language": "python",
   "name": "python3"
  },
  "language_info": {
   "codemirror_mode": {
    "name": "ipython",
    "version": 3
   },
   "file_extension": ".py",
   "mimetype": "text/x-python",
   "name": "python",
   "nbconvert_exporter": "python",
   "pygments_lexer": "ipython3",
   "version": "3.7.10"
  }
 },
 "nbformat": 4,
 "nbformat_minor": 4
}
