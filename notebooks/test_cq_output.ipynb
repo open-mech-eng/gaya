{
 "cells": [
  {
   "cell_type": "code",
   "execution_count": 1,
   "metadata": {},
   "outputs": [],
   "source": [
    "%load_ext autoreload\n",
    "%autoreload 2"
   ]
  },
  {
   "cell_type": "code",
   "execution_count": 2,
   "metadata": {},
   "outputs": [
    {
     "output_type": "execute_result",
     "data": {
      "text/plain": [
       "'/home/noce2/.local/share/jupyter/nbextensions/pythreejs'"
      ]
     },
     "metadata": {},
     "execution_count": 2
    }
   ],
   "source": [
    "from os.path import dirname, abspath, join\n",
    "from notebook.nbextensions import install_nbextension\n",
    "from site import getsitepackages\n",
    "\n",
    "install_nbextension(f\"{getsitepackages()[0]}/pythreejs\",\n",
    "                    symlink=True, user=True)"
   ]
  },
  {
   "cell_type": "code",
   "execution_count": 3,
   "metadata": {},
   "outputs": [
    {
     "output_type": "stream",
     "name": "stdout",
     "text": [
      "Overwriting auto display for cadquery Workplane and Shape\n"
     ]
    }
   ],
   "source": [
    "from examples.spindle_assembly.assembly import SpindleAssembly\n",
    "\n",
    "from ipywidgets.embed import embed_minimal_html\n",
    "\n",
    "from jupyter_cadquery.cadquery import show"
   ]
  },
  {
   "cell_type": "code",
   "execution_count": 4,
   "metadata": {},
   "outputs": [],
   "source": [
    "def foo_html(obj):\n",
    "    return show(obj.geometry, display=\"html\")\n",
    "\n",
    "html_formatter = get_ipython().display_formatter.formatters['text/html']\n",
    "html_formatter.for_type(SpindleAssembly, foo_html)"
   ]
  },
  {
   "cell_type": "code",
   "execution_count": 5,
   "metadata": {},
   "outputs": [],
   "source": [
    "SpindleAssembly(\n",
    "        vslot_dxf_profile_location=\"../examples/examples/spindle_assembly/C-Beam-DXF.dxf\"\n",
    "    )"
   ]
  },
  {
   "cell_type": "code",
   "execution_count": null,
   "metadata": {},
   "outputs": [],
   "source": []
  }
 ],
 "metadata": {
  "kernelspec": {
   "name": "python3710jvsc74a57bd090268ceaf804d484d768179328f41ccd5ad448583ff7d2947cfbc9a7303efaff",
   "display_name": "Python 3.7.10 64-bit ('gaya': conda)"
  },
  "language_info": {
   "codemirror_mode": {
    "name": "ipython",
    "version": 3
   },
   "file_extension": ".py",
   "mimetype": "text/x-python",
   "name": "python",
   "nbconvert_exporter": "python",
   "pygments_lexer": "ipython3",
   "version": "3.7.10"
  }
 },
 "nbformat": 4,
 "nbformat_minor": 4
}